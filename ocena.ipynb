{
 "cells": [
  {
   "cell_type": "code",
   "execution_count": 7,
   "metadata": {},
   "outputs": [],
   "source": [
    "def ocena(a):\n",
    "    if a > 91:\n",
    "        print(\"otrzymałeś ocenę bardzo dobrą\")\n",
    "    elif 90 > a > 76:\n",
    "        print(\"otrzymałeś ocenę dobrą\")\n",
    "    elif 75 > a > 51:\n",
    "        print(\"otrzymałeś ocenę dopuszczającą\")\n",
    "    else:\n",
    "        print(\"przykro mi, zapraszam we wrześniu\")"
   ]
  },
  {
   "cell_type": "code",
   "execution_count": 8,
   "metadata": {},
   "outputs": [
    {
     "name": "stdout",
     "output_type": "stream",
     "text": [
      "otrzymałeś ocenę dobrą\n"
     ]
    }
   ],
   "source": [
    "ocena(83)"
   ]
  },
  {
   "cell_type": "code",
   "execution_count": null,
   "metadata": {},
   "outputs": [],
   "source": []
  }
 ],
 "metadata": {
  "kernelspec": {
   "display_name": "Python 3",
   "language": "python",
   "name": "python3"
  },
  "language_info": {
   "codemirror_mode": {
    "name": "ipython",
    "version": 3
   },
   "file_extension": ".py",
   "mimetype": "text/x-python",
   "name": "python",
   "nbconvert_exporter": "python",
   "pygments_lexer": "ipython3",
   "version": "3.7.0"
  }
 },
 "nbformat": 4,
 "nbformat_minor": 2
}
