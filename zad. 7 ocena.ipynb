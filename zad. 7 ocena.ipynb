def ocena(a):
    if a > 91:
        print("otrzymałeś ocenę bardzo dobrą")
    elif 90 > a > 76:
        print("otrzymałeś ocenę dobrą")
    elif 75 > a > 51:
        print("otrzymałeś ocenę dopuszczającą")
    else:
        print("przykro mi, zapraszam we wrześniu")

Ocena(67)
